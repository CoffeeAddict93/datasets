{
 "cells": [
  {
   "cell_type": "markdown",
   "metadata": {},
   "source": [
    "Data from [2018 Behavioral Risk Factor Surveillance System survey](Ahttps://www.cdc.gov/brfss/annual_data/annual_2018.html).\n",
    "\n",
    "The raw data are fairly large - about 100M zip compressed, and nearly 1G when uncompressed.\n",
    "\n",
    "Data from the [SAS transport format download[(https://www.cdc.gov/brfss/annual_data/2018/files/LLCP2018XPT.zip).\n",
    "\n",
    "Variable list in the [code book](https://www.cdc.gov/brfss/annual_data/2018/pdf/codebook18_llcp-v2-508.pdf)."
   ]
  },
  {
   "cell_type": "code",
   "execution_count": 1,
   "metadata": {},
   "outputs": [],
   "source": [
    "import os\n",
    "import os.path as op\n",
    "import urllib.request\n",
    "from zipfile import ZipFile"
   ]
  },
  {
   "cell_type": "code",
   "execution_count": 2,
   "metadata": {},
   "outputs": [],
   "source": [
    "# Fetch data file from URL.\n",
    "brfss_url = 'https://www.cdc.gov/brfss/annual_data/2018/files/LLCP2018XPT.zip'\n",
    "zfname, msg = urllib.request.urlretrieve(brfss_url, 'LLCP2018XPT.zip')"
   ]
  },
  {
   "cell_type": "code",
   "execution_count": 3,
   "metadata": {},
   "outputs": [],
   "source": [
    "# Get data file.\n",
    "with ZipFile(zfname) as zf:\n",
    "    zf.extract('LLCP2018.XPT ')\n",
    "# Remove trailing space in file extension in order for Pandas to recognize\n",
    "# the `.xpt` extension as SAS transport format.\n",
    "os.rename('LLCP2018.XPT ', 'LLCP2018.xpt')"
   ]
  },
  {
   "cell_type": "code",
   "execution_count": 4,
   "metadata": {},
   "outputs": [],
   "source": [
    "import numpy as np\n",
    "import pandas as pd"
   ]
  },
  {
   "cell_type": "code",
   "execution_count": 5,
   "metadata": {},
   "outputs": [
    {
     "data": {
      "text/html": [
       "<div>\n",
       "<style scoped>\n",
       "    .dataframe tbody tr th:only-of-type {\n",
       "        vertical-align: middle;\n",
       "    }\n",
       "\n",
       "    .dataframe tbody tr th {\n",
       "        vertical-align: top;\n",
       "    }\n",
       "\n",
       "    .dataframe thead th {\n",
       "        text-align: right;\n",
       "    }\n",
       "</style>\n",
       "<table border=\"1\" class=\"dataframe\">\n",
       "  <thead>\n",
       "    <tr style=\"text-align: right;\">\n",
       "      <th></th>\n",
       "      <th>_STATE</th>\n",
       "      <th>FMONTH</th>\n",
       "      <th>IDATE</th>\n",
       "      <th>IMONTH</th>\n",
       "      <th>IDAY</th>\n",
       "      <th>IYEAR</th>\n",
       "      <th>DISPCODE</th>\n",
       "      <th>SEQNO</th>\n",
       "      <th>_PSU</th>\n",
       "      <th>CTELENM1</th>\n",
       "      <th>...</th>\n",
       "      <th>_MAM5022</th>\n",
       "      <th>_RFPAP34</th>\n",
       "      <th>_RFPSA22</th>\n",
       "      <th>_RFBLDS3</th>\n",
       "      <th>_COL10YR</th>\n",
       "      <th>_HFOB3YR</th>\n",
       "      <th>_FS5YR</th>\n",
       "      <th>_FOBTFS</th>\n",
       "      <th>_CRCREC</th>\n",
       "      <th>_AIDTST3</th>\n",
       "    </tr>\n",
       "  </thead>\n",
       "  <tbody>\n",
       "    <tr>\n",
       "      <th>0</th>\n",
       "      <td>1.0</td>\n",
       "      <td>1.0</td>\n",
       "      <td>b'01052018'</td>\n",
       "      <td>b'01'</td>\n",
       "      <td>b'05'</td>\n",
       "      <td>b'2018'</td>\n",
       "      <td>1100.0</td>\n",
       "      <td>b'2018000001'</td>\n",
       "      <td>2.018000e+09</td>\n",
       "      <td>1.0</td>\n",
       "      <td>...</td>\n",
       "      <td>NaN</td>\n",
       "      <td>NaN</td>\n",
       "      <td>NaN</td>\n",
       "      <td>NaN</td>\n",
       "      <td>NaN</td>\n",
       "      <td>NaN</td>\n",
       "      <td>NaN</td>\n",
       "      <td>NaN</td>\n",
       "      <td>NaN</td>\n",
       "      <td>2.0</td>\n",
       "    </tr>\n",
       "    <tr>\n",
       "      <th>1</th>\n",
       "      <td>1.0</td>\n",
       "      <td>1.0</td>\n",
       "      <td>b'01122018'</td>\n",
       "      <td>b'01'</td>\n",
       "      <td>b'12'</td>\n",
       "      <td>b'2018'</td>\n",
       "      <td>1100.0</td>\n",
       "      <td>b'2018000002'</td>\n",
       "      <td>2.018000e+09</td>\n",
       "      <td>1.0</td>\n",
       "      <td>...</td>\n",
       "      <td>NaN</td>\n",
       "      <td>1.0</td>\n",
       "      <td>NaN</td>\n",
       "      <td>NaN</td>\n",
       "      <td>NaN</td>\n",
       "      <td>NaN</td>\n",
       "      <td>NaN</td>\n",
       "      <td>NaN</td>\n",
       "      <td>NaN</td>\n",
       "      <td>2.0</td>\n",
       "    </tr>\n",
       "    <tr>\n",
       "      <th>2</th>\n",
       "      <td>1.0</td>\n",
       "      <td>1.0</td>\n",
       "      <td>b'01082018'</td>\n",
       "      <td>b'01'</td>\n",
       "      <td>b'08'</td>\n",
       "      <td>b'2018'</td>\n",
       "      <td>1100.0</td>\n",
       "      <td>b'2018000003'</td>\n",
       "      <td>2.018000e+09</td>\n",
       "      <td>1.0</td>\n",
       "      <td>...</td>\n",
       "      <td>NaN</td>\n",
       "      <td>NaN</td>\n",
       "      <td>NaN</td>\n",
       "      <td>NaN</td>\n",
       "      <td>NaN</td>\n",
       "      <td>NaN</td>\n",
       "      <td>NaN</td>\n",
       "      <td>NaN</td>\n",
       "      <td>NaN</td>\n",
       "      <td>2.0</td>\n",
       "    </tr>\n",
       "    <tr>\n",
       "      <th>3</th>\n",
       "      <td>1.0</td>\n",
       "      <td>1.0</td>\n",
       "      <td>b'01032018'</td>\n",
       "      <td>b'01'</td>\n",
       "      <td>b'03'</td>\n",
       "      <td>b'2018'</td>\n",
       "      <td>1100.0</td>\n",
       "      <td>b'2018000004'</td>\n",
       "      <td>2.018000e+09</td>\n",
       "      <td>1.0</td>\n",
       "      <td>...</td>\n",
       "      <td>NaN</td>\n",
       "      <td>NaN</td>\n",
       "      <td>2.0</td>\n",
       "      <td>2.0</td>\n",
       "      <td>2.0</td>\n",
       "      <td>2.0</td>\n",
       "      <td>2.0</td>\n",
       "      <td>2.0</td>\n",
       "      <td>2.0</td>\n",
       "      <td>2.0</td>\n",
       "    </tr>\n",
       "    <tr>\n",
       "      <th>4</th>\n",
       "      <td>1.0</td>\n",
       "      <td>1.0</td>\n",
       "      <td>b'01122018'</td>\n",
       "      <td>b'01'</td>\n",
       "      <td>b'12'</td>\n",
       "      <td>b'2018'</td>\n",
       "      <td>1100.0</td>\n",
       "      <td>b'2018000005'</td>\n",
       "      <td>2.018000e+09</td>\n",
       "      <td>1.0</td>\n",
       "      <td>...</td>\n",
       "      <td>NaN</td>\n",
       "      <td>NaN</td>\n",
       "      <td>NaN</td>\n",
       "      <td>NaN</td>\n",
       "      <td>NaN</td>\n",
       "      <td>NaN</td>\n",
       "      <td>NaN</td>\n",
       "      <td>NaN</td>\n",
       "      <td>NaN</td>\n",
       "      <td>2.0</td>\n",
       "    </tr>\n",
       "  </tbody>\n",
       "</table>\n",
       "<p>5 rows × 275 columns</p>\n",
       "</div>"
      ],
      "text/plain": [
       "   _STATE  FMONTH        IDATE IMONTH   IDAY    IYEAR  DISPCODE  \\\n",
       "0     1.0     1.0  b'01052018'  b'01'  b'05'  b'2018'    1100.0   \n",
       "1     1.0     1.0  b'01122018'  b'01'  b'12'  b'2018'    1100.0   \n",
       "2     1.0     1.0  b'01082018'  b'01'  b'08'  b'2018'    1100.0   \n",
       "3     1.0     1.0  b'01032018'  b'01'  b'03'  b'2018'    1100.0   \n",
       "4     1.0     1.0  b'01122018'  b'01'  b'12'  b'2018'    1100.0   \n",
       "\n",
       "           SEQNO          _PSU  CTELENM1  ...  _MAM5022  _RFPAP34  _RFPSA22  \\\n",
       "0  b'2018000001'  2.018000e+09       1.0  ...       NaN       NaN       NaN   \n",
       "1  b'2018000002'  2.018000e+09       1.0  ...       NaN       1.0       NaN   \n",
       "2  b'2018000003'  2.018000e+09       1.0  ...       NaN       NaN       NaN   \n",
       "3  b'2018000004'  2.018000e+09       1.0  ...       NaN       NaN       2.0   \n",
       "4  b'2018000005'  2.018000e+09       1.0  ...       NaN       NaN       NaN   \n",
       "\n",
       "   _RFBLDS3  _COL10YR  _HFOB3YR  _FS5YR  _FOBTFS  _CRCREC  _AIDTST3  \n",
       "0       NaN       NaN       NaN     NaN      NaN      NaN       2.0  \n",
       "1       NaN       NaN       NaN     NaN      NaN      NaN       2.0  \n",
       "2       NaN       NaN       NaN     NaN      NaN      NaN       2.0  \n",
       "3       2.0       2.0       2.0     2.0      2.0      2.0       2.0  \n",
       "4       NaN       NaN       NaN     NaN      NaN      NaN       2.0  \n",
       "\n",
       "[5 rows x 275 columns]"
      ]
     },
     "execution_count": 5,
     "metadata": {},
     "output_type": "execute_result"
    }
   ],
   "source": [
    "df = pd.read_sas('LLCP2018.xpt')\n",
    "df.head()"
   ]
  },
  {
   "cell_type": "markdown",
   "metadata": {},
   "source": [
    "There are about half a million rows, and several hundred columns."
   ]
  },
  {
   "cell_type": "code",
   "execution_count": 6,
   "metadata": {},
   "outputs": [
    {
     "data": {
      "text/plain": [
       "(437436, 275)"
      ]
     },
     "execution_count": 6,
     "metadata": {},
     "output_type": "execute_result"
    }
   ],
   "source": [
    "df.shape"
   ]
  },
  {
   "cell_type": "markdown",
   "metadata": {},
   "source": [
    "`_STATE` is [State FIPS Code](https://en.wikipedia.org/wiki/Federal_Information_Processing_Standard_state_code)."
   ]
  },
  {
   "cell_type": "code",
   "execution_count": 7,
   "metadata": {},
   "outputs": [
    {
     "data": {
      "text/plain": [
       "1      6606\n",
       "2      2758\n",
       "4      8089\n",
       "5      5360\n",
       "6     11919\n",
       "8      8899\n",
       "9     10709\n",
       "10     5233\n",
       "11     4397\n",
       "12    15242\n",
       "13     9305\n",
       "15     7901\n",
       "16     3696\n",
       "17     5304\n",
       "18     7608\n",
       "19     9127\n",
       "20    10822\n",
       "21     8548\n",
       "22     5125\n",
       "23    10971\n",
       "24    17546\n",
       "25     6669\n",
       "26    10322\n",
       "27    16990\n",
       "28     5843\n",
       "29     6231\n",
       "30     5190\n",
       "31    14634\n",
       "32     3222\n",
       "33     5737\n",
       "34     3090\n",
       "35     6713\n",
       "36    35767\n",
       "37     4729\n",
       "38     5622\n",
       "39    12763\n",
       "40     5253\n",
       "41     5946\n",
       "42     6213\n",
       "44     5607\n",
       "45    10843\n",
       "46     7120\n",
       "47     5160\n",
       "48    11217\n",
       "49    10563\n",
       "50     6544\n",
       "51    10321\n",
       "53    13120\n",
       "54     4897\n",
       "55     4996\n",
       "56     4462\n",
       "66     1644\n",
       "72     4843\n",
       "Name: _STATE, dtype: int64"
      ]
     },
     "execution_count": 7,
     "metadata": {},
     "output_type": "execute_result"
    }
   ],
   "source": [
    "state_fips = df['_STATE'].astype(int)\n",
    "state_fips.value_counts(sort=False)"
   ]
  },
  {
   "cell_type": "markdown",
   "metadata": {},
   "source": [
    "Replace with two-letter postal abbreviation:"
   ]
  },
  {
   "cell_type": "code",
   "execution_count": 8,
   "metadata": {},
   "outputs": [
    {
     "data": {
      "text/html": [
       "<div>\n",
       "<style scoped>\n",
       "    .dataframe tbody tr th:only-of-type {\n",
       "        vertical-align: middle;\n",
       "    }\n",
       "\n",
       "    .dataframe tbody tr th {\n",
       "        vertical-align: top;\n",
       "    }\n",
       "\n",
       "    .dataframe thead th {\n",
       "        text-align: right;\n",
       "    }\n",
       "</style>\n",
       "<table border=\"1\" class=\"dataframe\">\n",
       "  <thead>\n",
       "    <tr style=\"text-align: right;\">\n",
       "      <th></th>\n",
       "      <th>fips</th>\n",
       "      <th>post_code</th>\n",
       "      <th>name</th>\n",
       "      <th>gnisid</th>\n",
       "    </tr>\n",
       "  </thead>\n",
       "  <tbody>\n",
       "    <tr>\n",
       "      <th>0</th>\n",
       "      <td>1</td>\n",
       "      <td>AL</td>\n",
       "      <td>Alabama</td>\n",
       "      <td>1779775</td>\n",
       "    </tr>\n",
       "    <tr>\n",
       "      <th>1</th>\n",
       "      <td>2</td>\n",
       "      <td>AK</td>\n",
       "      <td>Alaska</td>\n",
       "      <td>1785533</td>\n",
       "    </tr>\n",
       "    <tr>\n",
       "      <th>2</th>\n",
       "      <td>4</td>\n",
       "      <td>AZ</td>\n",
       "      <td>Arizona</td>\n",
       "      <td>1779777</td>\n",
       "    </tr>\n",
       "    <tr>\n",
       "      <th>3</th>\n",
       "      <td>5</td>\n",
       "      <td>AR</td>\n",
       "      <td>Arkansas</td>\n",
       "      <td>68085</td>\n",
       "    </tr>\n",
       "    <tr>\n",
       "      <th>4</th>\n",
       "      <td>6</td>\n",
       "      <td>CA</td>\n",
       "      <td>California</td>\n",
       "      <td>1779778</td>\n",
       "    </tr>\n",
       "  </tbody>\n",
       "</table>\n",
       "</div>"
      ],
      "text/plain": [
       "   fips post_code        name   gnisid\n",
       "0     1        AL     Alabama  1779775\n",
       "1     2        AK      Alaska  1785533\n",
       "2     4        AZ     Arizona  1779777\n",
       "3     5        AR    Arkansas    68085\n",
       "4     6        CA  California  1779778"
      ]
     },
     "execution_count": 8,
     "metadata": {},
     "output_type": "execute_result"
    }
   ],
   "source": [
    "us_states = pd.read_csv(op.join('..', 'us_states', 'us_states.csv'))\n",
    "us_states.head()"
   ]
  },
  {
   "cell_type": "code",
   "execution_count": 9,
   "metadata": {},
   "outputs": [
    {
     "data": {
      "text/plain": [
       "fips\n",
       "1    AL\n",
       "2    AK\n",
       "4    AZ\n",
       "5    AR\n",
       "6    CA\n",
       "Name: post_code, dtype: object"
      ]
     },
     "execution_count": 9,
     "metadata": {},
     "output_type": "execute_result"
    }
   ],
   "source": [
    "# Make a Series to look up state abbreviations from FIPs codes.\n",
    "lookup = us_states['post_code']\n",
    "lookup.index = us_states['fips']\n",
    "lookup.head()"
   ]
  },
  {
   "cell_type": "code",
   "execution_count": 10,
   "metadata": {},
   "outputs": [
    {
     "data": {
      "text/plain": [
       "0    1\n",
       "1    1\n",
       "2    1\n",
       "3    1\n",
       "4    1\n",
       "Name: _STATE, dtype: int64"
      ]
     },
     "execution_count": 10,
     "metadata": {},
     "output_type": "execute_result"
    }
   ],
   "source": [
    "state_fips.head()"
   ]
  },
  {
   "cell_type": "code",
   "execution_count": 11,
   "metadata": {},
   "outputs": [
    {
     "data": {
      "text/plain": [
       "DC     4397\n",
       "GU     1644\n",
       "UT    10563\n",
       "AK     2758\n",
       "ND     5622\n",
       "NE    14634\n",
       "CA    11919\n",
       "CO     8899\n",
       "NM     6713\n",
       "NH     5737\n",
       "MA     6669\n",
       "LA     5125\n",
       "OH    12763\n",
       "CT    10709\n",
       "IN     7608\n",
       "PA     6213\n",
       "PR     4843\n",
       "TX    11217\n",
       "NJ     3090\n",
       "WI     4996\n",
       "AZ     8089\n",
       "WV     4897\n",
       "DE     5233\n",
       "ME    10971\n",
       "NV     3222\n",
       "KY     8548\n",
       "HI     7901\n",
       "OR     5946\n",
       "MD    17546\n",
       "RI     5607\n",
       "MN    16990\n",
       "TN     5160\n",
       "GA     9305\n",
       "VA    10321\n",
       "WA    13120\n",
       "SC    10843\n",
       "AR     5360\n",
       "NY    35767\n",
       "MT     5190\n",
       "NC     4729\n",
       "VT     6544\n",
       "AL     6606\n",
       "MS     5843\n",
       "MI    10322\n",
       "KS    10822\n",
       "MO     6231\n",
       "IA     9127\n",
       "FL    15242\n",
       "ID     3696\n",
       "WY     4462\n",
       "SD     7120\n",
       "IL     5304\n",
       "OK     5253\n",
       "Name: post_code, dtype: int64"
      ]
     },
     "execution_count": 11,
     "metadata": {},
     "output_type": "execute_result"
    }
   ],
   "source": [
    "# Look up abbreviations from FIPS code.\n",
    "state_pcs = lookup.loc[state_fips]\n",
    "# Set original index.\n",
    "state_pcs.index = state_fips.index\n",
    "state_pcs.value_counts(sort=False)"
   ]
  },
  {
   "cell_type": "markdown",
   "metadata": {},
   "source": [
    "`QSTVER`: \"Questionnaire Version Identifier\".\n",
    "\n",
    "* 10 Landline single questionnaire\n",
    "* 11 Landline multiple questionnaire version 1\n",
    "* 12 Landline multiple questionnaire version 2\n",
    "* 13 Landline multiple questionnaire version 3\n",
    "* 20 Cell Phone single questionnaire\n",
    "* 21 Cell Phone multiple questionnaire version 1\n",
    "* 22 Cell Phone multiple questionnaire version 2\n",
    "* 23 Cell Phone multiple questionnaire version 3"
   ]
  },
  {
   "cell_type": "code",
   "execution_count": 12,
   "metadata": {},
   "outputs": [
    {
     "data": {
      "text/plain": [
       "20.0    163876\n",
       "10.0     93507\n",
       "21.0     47939\n",
       "22.0     45491\n",
       "11.0     32777\n",
       "12.0     29197\n",
       "23.0     14848\n",
       "13.0      9801\n",
       "Name: QSTVER, dtype: int64"
      ]
     },
     "execution_count": 12,
     "metadata": {},
     "output_type": "execute_result"
    }
   ],
   "source": [
    "qstver = df['QSTVER']\n",
    "qstver.value_counts()"
   ]
  },
  {
   "cell_type": "code",
   "execution_count": 13,
   "metadata": {},
   "outputs": [
    {
     "data": {
      "text/plain": [
       "0    10.0\n",
       "1    10.0\n",
       "2    10.0\n",
       "3    10.0\n",
       "4    10.0\n",
       "Name: QSTVER, dtype: float64"
      ]
     },
     "execution_count": 13,
     "metadata": {},
     "output_type": "execute_result"
    }
   ],
   "source": [
    "qstver.head()"
   ]
  },
  {
   "cell_type": "code",
   "execution_count": 14,
   "metadata": {},
   "outputs": [
    {
     "data": {
      "text/plain": [
       "CELL    272154\n",
       "LAND    165282\n",
       "Name: QSTVER, dtype: int64"
      ]
     },
     "execution_count": 14,
     "metadata": {},
     "output_type": "execute_result"
    }
   ],
   "source": [
    "def recode_qt(v):\n",
    "    if v < 20:\n",
    "        return \"LAND\"\n",
    "    if v >= 20:\n",
    "        return 'CELL'\n",
    "    return v\n",
    "\n",
    "qst_type = qstver.apply(recode_qt)\n",
    "qst_type.value_counts()"
   ]
  },
  {
   "cell_type": "code",
   "execution_count": 15,
   "metadata": {},
   "outputs": [
    {
     "data": {
      "text/plain": [
       "0    LAND\n",
       "1    LAND\n",
       "2    LAND\n",
       "3    LAND\n",
       "4    LAND\n",
       "Name: QSTVER, dtype: object"
      ]
     },
     "execution_count": 15,
     "metadata": {},
     "output_type": "execute_result"
    }
   ],
   "source": [
    "qst_type.head()"
   ]
  },
  {
   "cell_type": "markdown",
   "metadata": {},
   "source": [
    "`QSTLANG`: \"Language identifier\"\n",
    "\n",
    "* 1 English\n",
    "* 2 Spanish\n",
    "* 3-99 Other"
   ]
  },
  {
   "cell_type": "code",
   "execution_count": 16,
   "metadata": {},
   "outputs": [
    {
     "data": {
      "text/plain": [
       "1.0    421830\n",
       "2.0     15541\n",
       "3.0        17\n",
       "Name: QSTLANG, dtype: int64"
      ]
     },
     "execution_count": 16,
     "metadata": {},
     "output_type": "execute_result"
    }
   ],
   "source": [
    "qstlang = df['QSTLANG']\n",
    "qstlang.value_counts()"
   ]
  },
  {
   "cell_type": "code",
   "execution_count": 17,
   "metadata": {},
   "outputs": [
    {
     "data": {
      "text/plain": [
       "ENG    421830\n",
       "SPA     15541\n",
       "Name: QSTLANG, dtype: int64"
      ]
     },
     "execution_count": 17,
     "metadata": {},
     "output_type": "execute_result"
    }
   ],
   "source": [
    "def recode_ql(v):\n",
    "    if v == 1:\n",
    "        return 'ENG'\n",
    "    if v == 2:\n",
    "        return 'SPA'\n",
    "    return np.nan\n",
    "\n",
    "qstlang_labels = qstlang.apply(recode_ql)\n",
    "qstlang_labels.value_counts()"
   ]
  },
  {
   "cell_type": "markdown",
   "metadata": {},
   "source": [
    "`_URBSTAT` : \"Urban/Rural Status\"\n",
    "\n",
    "* 1 Urban counties \n",
    "* 2 Rural counties"
   ]
  },
  {
   "cell_type": "code",
   "execution_count": 18,
   "metadata": {},
   "outputs": [
    {
     "data": {
      "text/plain": [
       "1.0    365714\n",
       "2.0     65235\n",
       "Name: _URBSTAT, dtype: int64"
      ]
     },
     "execution_count": 18,
     "metadata": {},
     "output_type": "execute_result"
    }
   ],
   "source": [
    "urbstat = df['_URBSTAT']\n",
    "urbstat.value_counts()"
   ]
  },
  {
   "cell_type": "code",
   "execution_count": 19,
   "metadata": {},
   "outputs": [
    {
     "data": {
      "text/plain": [
       "URBAN    365714\n",
       "RURAL     65235\n",
       "Name: _URBSTAT, dtype: int64"
      ]
     },
     "execution_count": 19,
     "metadata": {},
     "output_type": "execute_result"
    }
   ],
   "source": [
    "def recode_1_2(v):\n",
    "    if v == 1:\n",
    "        return 'URBAN'\n",
    "    if v == 2:\n",
    "        return 'RURAL'\n",
    "    return v\n",
    "\n",
    "urbstat_labels = urbstat.apply(recode_1_2)\n",
    "urbstat_labels.value_counts()"
   ]
  },
  {
   "cell_type": "markdown",
   "metadata": {},
   "source": [
    "`HTM4` is the \"Computed Height in Meters\", with 2 implied decimal places, so in fact it is the computed height in centimeters.\n",
    "\n",
    "It is computed because the original variable, `HEIGHT3` could be in feet / inches or meters."
   ]
  },
  {
   "cell_type": "code",
   "execution_count": 20,
   "metadata": {},
   "outputs": [
    {
     "data": {
      "text/plain": [
       "0    163.0\n",
       "1    165.0\n",
       "2    147.0\n",
       "3    178.0\n",
       "4    160.0\n",
       "Name: HTM4, dtype: float64"
      ]
     },
     "execution_count": 20,
     "metadata": {},
     "output_type": "execute_result"
    }
   ],
   "source": [
    "height_cm = df['HTM4']\n",
    "height_cm.head()"
   ]
  },
  {
   "cell_type": "code",
   "execution_count": 21,
   "metadata": {},
   "outputs": [
    {
     "data": {
      "text/plain": [
       "True"
      ]
     },
     "execution_count": 21,
     "metadata": {},
     "output_type": "execute_result"
    }
   ],
   "source": [
    "# Heights are all integers.\n",
    "good_height = height_cm.dropna()\n",
    "np.all(good_height == np.round(good_height))"
   ]
  },
  {
   "cell_type": "markdown",
   "metadata": {},
   "source": [
    "`WTKG3` is \"Computed Weight in Kilograms\".  It has 2 implied decimal places, so it is in units of 10 grams.  It is computed from the mixed unit `WEIGHT2` variable."
   ]
  },
  {
   "cell_type": "code",
   "execution_count": 22,
   "metadata": {},
   "outputs": [
    {
     "data": {
      "text/plain": [
       "0    58.97\n",
       "1    90.72\n",
       "2    64.41\n",
       "3    86.18\n",
       "4      NaN\n",
       "Name: WTKG3, dtype: float64"
      ]
     },
     "execution_count": 22,
     "metadata": {},
     "output_type": "execute_result"
    }
   ],
   "source": [
    "weight_kg = df['WTKG3'] / 100\n",
    "weight_kg.head()"
   ]
  },
  {
   "cell_type": "markdown",
   "metadata": {},
   "source": [
    "`GENHLTH` is \"General Health\":\n",
    "\n",
    "* 1 Excellent\n",
    "* 2 Very good\n",
    "* 3 Good\n",
    "* 4 Fair\n",
    "* 5 Poor\n",
    "* 7 Don’t know/Not Sure\n",
    "* 9 Refused\n",
    "* BLANK Not asked or Missing"
   ]
  },
  {
   "cell_type": "code",
   "execution_count": 23,
   "metadata": {},
   "outputs": [
    {
     "data": {
      "text/plain": [
       "2.0    142197\n",
       "3.0    138321\n",
       "1.0     71893\n",
       "4.0     60762\n",
       "5.0     23120\n",
       "7.0       800\n",
       "9.0       318\n",
       "Name: GENHLTH, dtype: int64"
      ]
     },
     "execution_count": 23,
     "metadata": {},
     "output_type": "execute_result"
    }
   ],
   "source": [
    "genhlth = df['GENHLTH']\n",
    "genhlth.value_counts()"
   ]
  },
  {
   "cell_type": "code",
   "execution_count": 24,
   "metadata": {},
   "outputs": [],
   "source": [
    "def recode_7_9(val):\n",
    "    if val in (7, 9):\n",
    "        return np.nan\n",
    "    return val"
   ]
  },
  {
   "cell_type": "code",
   "execution_count": 25,
   "metadata": {},
   "outputs": [
    {
     "data": {
      "text/plain": [
       "2.0    142197\n",
       "3.0    138321\n",
       "1.0     71893\n",
       "4.0     60762\n",
       "5.0     23120\n",
       "Name: GENHLTH, dtype: int64"
      ]
     },
     "execution_count": 25,
     "metadata": {},
     "output_type": "execute_result"
    }
   ],
   "source": [
    "genhlth_clean = genhlth.apply(recode_7_9)\n",
    "genhlth_clean.value_counts()"
   ]
  },
  {
   "cell_type": "markdown",
   "metadata": {},
   "source": [
    "`PHYSHLTH`: \"Number of Days Physical Health Not Good\"; \"Now thinking about your physical health, which includes physical illness and injury, for how many days during the past 30 days was your physical health not good?\".\n",
    "\n",
    "* 1 - 30 Number of days\n",
    "* 88 None\n",
    "* 77 Don’t know/Not sure\n",
    "* 99 Refused\n",
    "* BLANK Not asked or Missing"
   ]
  },
  {
   "cell_type": "code",
   "execution_count": 26,
   "metadata": {},
   "outputs": [
    {
     "data": {
      "text/plain": [
       "count    437410.000000\n",
       "mean         60.122526\n",
       "std          37.156196\n",
       "min           1.000000\n",
       "25%          15.000000\n",
       "50%          88.000000\n",
       "75%          88.000000\n",
       "max          99.000000\n",
       "Name: PHYSHLTH, dtype: float64"
      ]
     },
     "execution_count": 26,
     "metadata": {},
     "output_type": "execute_result"
    }
   ],
   "source": [
    "physhlth = df['PHYSHLTH']\n",
    "physhlth.describe()"
   ]
  },
  {
   "cell_type": "code",
   "execution_count": 27,
   "metadata": {},
   "outputs": [],
   "source": [
    "def recode_88_77_99(val):\n",
    "    if val == 88:\n",
    "        return 0\n",
    "    if val in (77, 99):\n",
    "        return np.nan\n",
    "    return val"
   ]
  },
  {
   "cell_type": "code",
   "execution_count": 28,
   "metadata": {},
   "outputs": [
    {
     "data": {
      "text/plain": [
       "count    428472.000000\n",
       "mean          4.424597\n",
       "std           8.931486\n",
       "min           0.000000\n",
       "25%           0.000000\n",
       "50%           0.000000\n",
       "75%           3.000000\n",
       "max          30.000000\n",
       "Name: PHYSHLTH, dtype: float64"
      ]
     },
     "execution_count": 28,
     "metadata": {},
     "output_type": "execute_result"
    }
   ],
   "source": [
    "physhlth_clean = physhlth.apply(recode_88_77_99)\n",
    "physhlth_clean.describe()"
   ]
  },
  {
   "cell_type": "markdown",
   "metadata": {},
   "source": [
    "`MENTHLTH`: \"Number of Days Mental Health Not Good\" ; \"Now thinking about your mental health, which includes stress, depression, and problems with emotions, for how many days during the past 30 days was your mental health not good?\".\n",
    "\n",
    "* 1 - 30 Number of days\n",
    "* 88 None\n",
    "* 77 Don’t know/Not sure\n",
    "* 99 Refused\n",
    "* BLANK Not asked or Missing"
   ]
  },
  {
   "cell_type": "code",
   "execution_count": 29,
   "metadata": {},
   "outputs": [
    {
     "data": {
      "text/plain": [
       "count    437411.000000\n",
       "mean         63.066830\n",
       "std          36.385937\n",
       "min           1.000000\n",
       "25%          20.000000\n",
       "50%          88.000000\n",
       "75%          88.000000\n",
       "max          99.000000\n",
       "Name: MENTHLTH, dtype: float64"
      ]
     },
     "execution_count": 29,
     "metadata": {},
     "output_type": "execute_result"
    }
   ],
   "source": [
    "menhlth = df['MENTHLTH']\n",
    "menhlth.describe()"
   ]
  },
  {
   "cell_type": "code",
   "execution_count": 30,
   "metadata": {},
   "outputs": [
    {
     "data": {
      "text/plain": [
       "count    430423.000000\n",
       "mean          3.683923\n",
       "std           7.984771\n",
       "min           0.000000\n",
       "25%           0.000000\n",
       "50%           0.000000\n",
       "75%           2.000000\n",
       "max          30.000000\n",
       "Name: MENTHLTH, dtype: float64"
      ]
     },
     "execution_count": 30,
     "metadata": {},
     "output_type": "execute_result"
    }
   ],
   "source": [
    "menhlth_clean = menhlth.apply(recode_88_77_99)\n",
    "menhlth_clean.describe()"
   ]
  },
  {
   "cell_type": "markdown",
   "metadata": {},
   "source": [
    "`SLEPTIM1`: \"How Much Time Do You Sleep\" ; \"On average, how many hours of sleep do you get in a 24-hour period?\"\n",
    "\n",
    "* 1 - 24 Number of hours\n",
    "* 77 Don’t know/Not sure\n",
    "* 99 Refused\n",
    "* BLANK Missing"
   ]
  },
  {
   "cell_type": "code",
   "execution_count": 31,
   "metadata": {},
   "outputs": [
    {
     "data": {
      "text/plain": [
       "count    437413.000000\n",
       "mean          7.905229\n",
       "std           8.052407\n",
       "min           1.000000\n",
       "25%           6.000000\n",
       "50%           7.000000\n",
       "75%           8.000000\n",
       "max          99.000000\n",
       "Name: SLEPTIM1, dtype: float64"
      ]
     },
     "execution_count": 31,
     "metadata": {},
     "output_type": "execute_result"
    }
   ],
   "source": [
    "hrs_sleep = df['SLEPTIM1']\n",
    "hrs_sleep.describe()"
   ]
  },
  {
   "cell_type": "code",
   "execution_count": 32,
   "metadata": {},
   "outputs": [
    {
     "data": {
      "text/plain": [
       "count    432099.000000\n",
       "mean          7.031259\n",
       "std           1.510051\n",
       "min           1.000000\n",
       "25%           6.000000\n",
       "50%           7.000000\n",
       "75%           8.000000\n",
       "max          24.000000\n",
       "Name: SLEPTIM1, dtype: float64"
      ]
     },
     "execution_count": 32,
     "metadata": {},
     "output_type": "execute_result"
    }
   ],
   "source": [
    "hrs_sleep_clean = hrs_sleep.apply(recode_88_77_99)\n",
    "hrs_sleep_clean.describe()"
   ]
  },
  {
   "cell_type": "markdown",
   "metadata": {},
   "source": [
    "`SEX1` : \"Respondents Sex\" ; \"What is your sex? or What was your sex at birth? Was it...\"\n",
    "\n",
    "* 1 Male\n",
    "* 2 Female\n",
    "* 7 Don't know/Not Sure\n",
    "* 9 Refused"
   ]
  },
  {
   "cell_type": "code",
   "execution_count": 33,
   "metadata": {},
   "outputs": [
    {
     "data": {
      "text/plain": [
       "2.0    238911\n",
       "1.0    197412\n",
       "9.0       682\n",
       "7.0       431\n",
       "Name: SEX1, dtype: int64"
      ]
     },
     "execution_count": 33,
     "metadata": {},
     "output_type": "execute_result"
    }
   ],
   "source": [
    "sex = df['SEX1']\n",
    "sex.value_counts()"
   ]
  },
  {
   "cell_type": "code",
   "execution_count": 34,
   "metadata": {},
   "outputs": [
    {
     "data": {
      "text/plain": [
       "2.0    238911\n",
       "1.0    197412\n",
       "Name: SEX1, dtype: int64"
      ]
     },
     "execution_count": 34,
     "metadata": {},
     "output_type": "execute_result"
    }
   ],
   "source": [
    "sex_clean = sex.apply(recode_7_9)\n",
    "sex_clean.value_counts()"
   ]
  },
  {
   "cell_type": "code",
   "execution_count": 35,
   "metadata": {},
   "outputs": [
    {
     "data": {
      "text/plain": [
       "F    238911\n",
       "M    197412\n",
       "Name: SEX1, dtype: int64"
      ]
     },
     "execution_count": 35,
     "metadata": {},
     "output_type": "execute_result"
    }
   ],
   "source": [
    "sex_labels = sex_clean.astype(object)\n",
    "sex_labels[sex_clean == 1] = 'M'\n",
    "sex_labels[sex_clean == 2] = 'F'\n",
    "sex_labels.value_counts()"
   ]
  },
  {
   "cell_type": "markdown",
   "metadata": {},
   "source": [
    "`SMOKE100` : \"Smoked at Least 100 Cigarettes\" ; \"Have you smoked at least 100 cigarettes in your entire life?\"\n",
    "\n",
    "* 1 Yes\n",
    "* 2 No\n",
    "* 7 Don't know/Not Sure\n",
    "* 9 Refused\n",
    "* BLANK Not asked or Missing"
   ]
  },
  {
   "cell_type": "code",
   "execution_count": 36,
   "metadata": {},
   "outputs": [
    {
     "data": {
      "text/plain": [
       "2.0    240594\n",
       "1.0    180436\n",
       "7.0      2104\n",
       "9.0       458\n",
       "Name: SMOKE100, dtype: int64"
      ]
     },
     "execution_count": 36,
     "metadata": {},
     "output_type": "execute_result"
    }
   ],
   "source": [
    "smoke100 = df['SMOKE100']\n",
    "smoke100.value_counts()"
   ]
  },
  {
   "cell_type": "code",
   "execution_count": 37,
   "metadata": {},
   "outputs": [
    {
     "data": {
      "text/plain": [
       "2.0    240594\n",
       "1.0    180436\n",
       "Name: SMOKE100, dtype: int64"
      ]
     },
     "execution_count": 37,
     "metadata": {},
     "output_type": "execute_result"
    }
   ],
   "source": [
    "smoke100_clean = smoke100.apply(recode_7_9)\n",
    "smoke100_clean.value_counts()"
   ]
  },
  {
   "cell_type": "code",
   "execution_count": 38,
   "metadata": {},
   "outputs": [
    {
     "data": {
      "text/plain": [
       "False    240594\n",
       "True     180436\n",
       "Name: SMOKE100, dtype: int64"
      ]
     },
     "execution_count": 38,
     "metadata": {},
     "output_type": "execute_result"
    }
   ],
   "source": [
    "smoke100_labels = smoke100_clean.astype(object)\n",
    "smoke100_labels[smoke100_clean == 1] = True\n",
    "smoke100_labels[smoke100_clean == 2] = False\n",
    "smoke100_labels.value_counts()"
   ]
  },
  {
   "cell_type": "code",
   "execution_count": 39,
   "metadata": {},
   "outputs": [
    {
     "data": {
      "text/html": [
       "<div>\n",
       "<style scoped>\n",
       "    .dataframe tbody tr th:only-of-type {\n",
       "        vertical-align: middle;\n",
       "    }\n",
       "\n",
       "    .dataframe tbody tr th {\n",
       "        vertical-align: top;\n",
       "    }\n",
       "\n",
       "    .dataframe thead th {\n",
       "        text-align: right;\n",
       "    }\n",
       "</style>\n",
       "<table border=\"1\" class=\"dataframe\">\n",
       "  <thead>\n",
       "    <tr style=\"text-align: right;\">\n",
       "      <th></th>\n",
       "      <th>interview_type</th>\n",
       "      <th>quest_lang</th>\n",
       "      <th>urban_rural</th>\n",
       "      <th>state</th>\n",
       "      <th>height_cm</th>\n",
       "      <th>weight_kg</th>\n",
       "      <th>gen_health</th>\n",
       "      <th>phys_health_days</th>\n",
       "      <th>mental_health_days</th>\n",
       "      <th>smoke100</th>\n",
       "    </tr>\n",
       "  </thead>\n",
       "  <tbody>\n",
       "    <tr>\n",
       "      <th>0</th>\n",
       "      <td>LAND</td>\n",
       "      <td>ENG</td>\n",
       "      <td>RURAL</td>\n",
       "      <td>AL</td>\n",
       "      <td>163.0</td>\n",
       "      <td>58.97</td>\n",
       "      <td>2.0</td>\n",
       "      <td>2.0</td>\n",
       "      <td>30.0</td>\n",
       "      <td>0.0</td>\n",
       "    </tr>\n",
       "    <tr>\n",
       "      <th>1</th>\n",
       "      <td>LAND</td>\n",
       "      <td>ENG</td>\n",
       "      <td>URBAN</td>\n",
       "      <td>AL</td>\n",
       "      <td>165.0</td>\n",
       "      <td>90.72</td>\n",
       "      <td>2.0</td>\n",
       "      <td>3.0</td>\n",
       "      <td>0.0</td>\n",
       "      <td>0.0</td>\n",
       "    </tr>\n",
       "    <tr>\n",
       "      <th>2</th>\n",
       "      <td>LAND</td>\n",
       "      <td>ENG</td>\n",
       "      <td>URBAN</td>\n",
       "      <td>AL</td>\n",
       "      <td>147.0</td>\n",
       "      <td>64.41</td>\n",
       "      <td>2.0</td>\n",
       "      <td>5.0</td>\n",
       "      <td>10.0</td>\n",
       "      <td>0.0</td>\n",
       "    </tr>\n",
       "    <tr>\n",
       "      <th>3</th>\n",
       "      <td>LAND</td>\n",
       "      <td>ENG</td>\n",
       "      <td>URBAN</td>\n",
       "      <td>AL</td>\n",
       "      <td>178.0</td>\n",
       "      <td>86.18</td>\n",
       "      <td>1.0</td>\n",
       "      <td>1.0</td>\n",
       "      <td>0.0</td>\n",
       "      <td>0.0</td>\n",
       "    </tr>\n",
       "    <tr>\n",
       "      <th>4</th>\n",
       "      <td>LAND</td>\n",
       "      <td>ENG</td>\n",
       "      <td>URBAN</td>\n",
       "      <td>AL</td>\n",
       "      <td>160.0</td>\n",
       "      <td>NaN</td>\n",
       "      <td>2.0</td>\n",
       "      <td>2.0</td>\n",
       "      <td>0.0</td>\n",
       "      <td>0.0</td>\n",
       "    </tr>\n",
       "  </tbody>\n",
       "</table>\n",
       "</div>"
      ],
      "text/plain": [
       "  interview_type quest_lang urban_rural state  height_cm  weight_kg  \\\n",
       "0           LAND        ENG       RURAL    AL      163.0      58.97   \n",
       "1           LAND        ENG       URBAN    AL      165.0      90.72   \n",
       "2           LAND        ENG       URBAN    AL      147.0      64.41   \n",
       "3           LAND        ENG       URBAN    AL      178.0      86.18   \n",
       "4           LAND        ENG       URBAN    AL      160.0        NaN   \n",
       "\n",
       "   gen_health  phys_health_days  mental_health_days  smoke100  \n",
       "0         2.0               2.0                30.0       0.0  \n",
       "1         2.0               3.0                 0.0       0.0  \n",
       "2         2.0               5.0                10.0       0.0  \n",
       "3         1.0               1.0                 0.0       0.0  \n",
       "4         2.0               2.0                 0.0       0.0  "
      ]
     },
     "execution_count": 39,
     "metadata": {},
     "output_type": "execute_result"
    }
   ],
   "source": [
    "clean_df = pd.DataFrame()\n",
    "cols = [qst_type, qstlang_labels, urbstat_labels,\n",
    "        state_pcs, height_cm, weight_kg, sex_clean,\n",
    "         genhlth_clean, physhlth_clean,\n",
    "         menhlth_clean, smoke100_clean]\n",
    "names = ['interview_type', 'quest_lang', 'urban_rural',\n",
    "         'state', 'height_cm', 'weight_kg',\n",
    "         'gen_health', 'phys_health_days', 'mental_health_days',\n",
    "          'smoke100']\n",
    "for col, name in zip(cols, names):\n",
    "    clean_df[name] = col\n",
    "\n",
    "clean_df.head()"
   ]
  },
  {
   "cell_type": "code",
   "execution_count": 40,
   "metadata": {},
   "outputs": [
    {
     "data": {
      "text/html": [
       "<div>\n",
       "<style scoped>\n",
       "    .dataframe tbody tr th:only-of-type {\n",
       "        vertical-align: middle;\n",
       "    }\n",
       "\n",
       "    .dataframe tbody tr th {\n",
       "        vertical-align: top;\n",
       "    }\n",
       "\n",
       "    .dataframe thead th {\n",
       "        text-align: right;\n",
       "    }\n",
       "</style>\n",
       "<table border=\"1\" class=\"dataframe\">\n",
       "  <thead>\n",
       "    <tr style=\"text-align: right;\">\n",
       "      <th></th>\n",
       "      <th>interview_type</th>\n",
       "      <th>quest_lang</th>\n",
       "      <th>urban_rural</th>\n",
       "      <th>state</th>\n",
       "      <th>height_cm</th>\n",
       "      <th>weight_kg</th>\n",
       "      <th>gen_health</th>\n",
       "      <th>phys_health_days</th>\n",
       "      <th>mental_health_days</th>\n",
       "      <th>smoke100</th>\n",
       "    </tr>\n",
       "  </thead>\n",
       "  <tbody>\n",
       "    <tr>\n",
       "      <th>0</th>\n",
       "      <td>LAND</td>\n",
       "      <td>ENG</td>\n",
       "      <td>RURAL</td>\n",
       "      <td>AL</td>\n",
       "      <td>163.0</td>\n",
       "      <td>58.97</td>\n",
       "      <td>2.0</td>\n",
       "      <td>2.0</td>\n",
       "      <td>30.0</td>\n",
       "      <td>0.0</td>\n",
       "    </tr>\n",
       "    <tr>\n",
       "      <th>1</th>\n",
       "      <td>LAND</td>\n",
       "      <td>ENG</td>\n",
       "      <td>URBAN</td>\n",
       "      <td>AL</td>\n",
       "      <td>165.0</td>\n",
       "      <td>90.72</td>\n",
       "      <td>2.0</td>\n",
       "      <td>3.0</td>\n",
       "      <td>0.0</td>\n",
       "      <td>0.0</td>\n",
       "    </tr>\n",
       "    <tr>\n",
       "      <th>2</th>\n",
       "      <td>LAND</td>\n",
       "      <td>ENG</td>\n",
       "      <td>URBAN</td>\n",
       "      <td>AL</td>\n",
       "      <td>147.0</td>\n",
       "      <td>64.41</td>\n",
       "      <td>2.0</td>\n",
       "      <td>5.0</td>\n",
       "      <td>10.0</td>\n",
       "      <td>0.0</td>\n",
       "    </tr>\n",
       "    <tr>\n",
       "      <th>3</th>\n",
       "      <td>LAND</td>\n",
       "      <td>ENG</td>\n",
       "      <td>URBAN</td>\n",
       "      <td>AL</td>\n",
       "      <td>178.0</td>\n",
       "      <td>86.18</td>\n",
       "      <td>1.0</td>\n",
       "      <td>1.0</td>\n",
       "      <td>0.0</td>\n",
       "      <td>0.0</td>\n",
       "    </tr>\n",
       "    <tr>\n",
       "      <th>4</th>\n",
       "      <td>LAND</td>\n",
       "      <td>ENG</td>\n",
       "      <td>URBAN</td>\n",
       "      <td>AL</td>\n",
       "      <td>160.0</td>\n",
       "      <td>NaN</td>\n",
       "      <td>2.0</td>\n",
       "      <td>2.0</td>\n",
       "      <td>0.0</td>\n",
       "      <td>0.0</td>\n",
       "    </tr>\n",
       "  </tbody>\n",
       "</table>\n",
       "</div>"
      ],
      "text/plain": [
       "  interview_type quest_lang urban_rural state  height_cm  weight_kg  \\\n",
       "0           LAND        ENG       RURAL    AL      163.0      58.97   \n",
       "1           LAND        ENG       URBAN    AL      165.0      90.72   \n",
       "2           LAND        ENG       URBAN    AL      147.0      64.41   \n",
       "3           LAND        ENG       URBAN    AL      178.0      86.18   \n",
       "4           LAND        ENG       URBAN    AL      160.0        NaN   \n",
       "\n",
       "   gen_health  phys_health_days  mental_health_days  smoke100  \n",
       "0         2.0               2.0                30.0       0.0  \n",
       "1         2.0               3.0                 0.0       0.0  \n",
       "2         2.0               5.0                10.0       0.0  \n",
       "3         1.0               1.0                 0.0       0.0  \n",
       "4         2.0               2.0                 0.0       0.0  "
      ]
     },
     "execution_count": 40,
     "metadata": {},
     "output_type": "execute_result"
    }
   ],
   "source": [
    "out_fname = op.join('processed', 'brfss_vars.csv')\n",
    "clean_df.to_csv(out_fname, index=False)\n",
    "pd.read_csv(out_fname).head()"
   ]
  }
 ],
 "metadata": {
  "jupytext": {
   "main_language": "python",
   "metadata_filter": {
    "notebook": {
     "additional": "all",
     "excluded": [
      "language_info"
     ]
    }
   },
   "text_representation": {
    "extension": ".Rmd",
    "format_name": "rmarkdown",
    "format_version": "1.0",
    "jupytext_version": "0.8.6"
   }
  },
  "kernelspec": {
   "display_name": "Python 3",
   "language": "python",
   "name": "python3"
  },
  "language_info": {
   "codemirror_mode": {
    "name": "ipython",
    "version": 3
   },
   "file_extension": ".py",
   "mimetype": "text/x-python",
   "name": "python",
   "nbconvert_exporter": "python",
   "pygments_lexer": "ipython3",
   "version": "3.7.4"
  }
 },
 "nbformat": 4,
 "nbformat_minor": 2
}
